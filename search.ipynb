{
 "cells": [
  {
   "cell_type": "markdown",
   "metadata": {},
   "source": [
    "sk-1a28c3fcc7e044cbacd6faf47dc89755"
   ]
  },
  {
   "cell_type": "code",
   "execution_count": null,
   "metadata": {},
   "outputs": [],
   "source": [
    "api_key = \"sk-1a28c3fcc7e044cbacd6faf47dc89755\""
   ]
  },
  {
   "cell_type": "code",
   "execution_count": 5,
   "metadata": {},
   "outputs": [
    {
     "name": "stdout",
     "output_type": "stream",
     "text": [
      "{\"id\":\"chatcmpl-a743a983-4d4b-94ec-9879-26d79a6562d0\",\"choices\":[{\"finish_reason\":\"stop\",\"index\":0,\"logprobs\":null,\"message\":{\"content\":\"It looks like you've provided a rich set of content from a blog written by Lilian, covering various topics related to machine learning, reinforcement learning, large language models (LLMs), and more. Based on this content, it seems like you're interested in discussing or summarizing key points from these posts. How can I assist you with this material? Here are a few ways I can help:\\n\\n1. **Summarize Key Points**: Provide a concise summary of the main ideas discussed in the blog.\\n2. **Clarify Concepts**: Explain specific concepts in more detail, such as reward hacking, hallucination, diffusion models, or prompt engineering.\\n3. **Expand on a Topic**: Dive deeper into one of the topics mentioned, providing additional context or examples.\\n4. **Compare/Contrast**: Compare different techniques or approaches mentioned, such as data augmentation vs. generating new data, or contrastive learning vs. other self-supervised learning methods.\\n5. **Answer Questions**: Help answer any specific questions you might have about the content.\\n\\nLet me know what would be most helpful for you!\",\"refusal\":null,\"role\":\"assistant\",\"audio\":null,\"function_call\":null,\"tool_calls\":null}}],\"created\":1739946478,\"model\":\"qwen-plus\",\"object\":\"chat.completion\",\"service_tier\":null,\"system_fingerprint\":null,\"usage\":{\"completion_tokens\":221,\"prompt_tokens\":3403,\"total_tokens\":3624,\"completion_tokens_details\":null,\"prompt_tokens_details\":{\"audio_tokens\":null,\"cached_tokens\":0}}}\n"
     ]
    }
   ],
   "source": [
    "import requests\n",
    "from bs4 import BeautifulSoup\n",
    "from openai import OpenAI\n",
    "\n",
    "# Function to fetch and parse the webpage\n",
    "def fetch_website_content(url):\n",
    "    response = requests.get(url)\n",
    "    soup = BeautifulSoup(response.content, \"html.parser\")\n",
    "\n",
    "    # Extract text from paragraphs or other relevant elements\n",
    "    paragraphs = soup.find_all('p')\n",
    "    content = \" \".join([p.get_text() for p in paragraphs])\n",
    "    \n",
    "    return content\n",
    "\n",
    "# Fetch the content from the target URL\n",
    "url = \"https://lilianweng.github.io/\"\n",
    "website_content = fetch_website_content(url)\n",
    "\n",
    "# Initialize the OpenAI client\n",
    "api_key = \"sk-1a28c3fcc7e044cbacd6faf47dc89755\"\n",
    "client = OpenAI(\n",
    "    api_key=api_key,\n",
    "    base_url=\"https://dashscope.aliyuncs.com/compatible-mode/v1\",\n",
    ")\n",
    "\n",
    "# Pass the website content to the OpenAI model for further processing\n",
    "completion = client.chat.completions.create(\n",
    "    model=\"qwen-plus\",  # Example model\n",
    "    messages=[\n",
    "        {'role': 'system', 'content': 'You are a helpful assistant.'},\n",
    "        {'role': 'user', 'content': f\"Here is some content from the website: {website_content}. How can I help you with it?\"}\n",
    "    ],\n",
    "    extra_body={\n",
    "        \"enable_search\": True\n",
    "    }\n",
    ")\n",
    "\n",
    "# Print the result\n",
    "print(completion.model_dump_json())"
   ]
  }
 ],
 "metadata": {
  "kernelspec": {
   "display_name": ".venv",
   "language": "python",
   "name": "python3"
  },
  "language_info": {
   "codemirror_mode": {
    "name": "ipython",
    "version": 3
   },
   "file_extension": ".py",
   "mimetype": "text/x-python",
   "name": "python",
   "nbconvert_exporter": "python",
   "pygments_lexer": "ipython3",
   "version": "3.12.7"
  }
 },
 "nbformat": 4,
 "nbformat_minor": 2
}
